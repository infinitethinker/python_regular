{
 "cells": [
  {
   "cell_type": "markdown",
   "id": "257b961a",
   "metadata": {},
   "source": [
    "x=int(1)\n",
    "y=int(2.9)\n",
    "z=int(\"3\")\n",
    "print(x,y,z)"
   ]
  },
  {
   "cell_type": "code",
   "execution_count": 6,
   "id": "2f9512b2",
   "metadata": {},
   "outputs": [
    {
     "name": "stdout",
     "output_type": "stream",
     "text": [
      "1.0 2.9 3.0\n"
     ]
    }
   ],
   "source": [
    "x= float(1)\n",
    "y=float(2.9)\n",
    "z=float(\"3\")\n",
    "print(x,y,z)"
   ]
  },
  {
   "cell_type": "code",
   "execution_count": 38,
   "id": "674a5194",
   "metadata": {},
   "outputs": [
    {
     "name": "stdout",
     "output_type": "stream",
     "text": [
      "1 2.9 s3\n"
     ]
    }
   ],
   "source": [
    "x= str(1)\n",
    "y=str(2.9)\n",
    "z=str(\"s3\")\n",
    "w=chr(4)\n",
    "print(x,y,z)"
   ]
  },
  {
   "cell_type": "code",
   "execution_count": 9,
   "id": "58d38c2b",
   "metadata": {},
   "outputs": [
    {
     "name": "stdout",
     "output_type": "stream",
     "text": [
      "b\n",
      "a\n",
      "n\n",
      "a\n",
      "n\n",
      "a\n"
     ]
    }
   ],
   "source": [
    "for x in \"banana\":\n",
    "    print (x)"
   ]
  },
  {
   "cell_type": "code",
   "execution_count": 10,
   "id": "07808c46",
   "metadata": {},
   "outputs": [
    {
     "name": "stdout",
     "output_type": "stream",
     "text": [
      "5\n"
     ]
    }
   ],
   "source": [
    "x= \"banaa\"\n",
    "print(len(x))"
   ]
  },
  {
   "cell_type": "code",
   "execution_count": 40,
   "id": "d89e9c25",
   "metadata": {},
   "outputs": [
    {
     "name": "stdout",
     "output_type": "stream",
     "text": [
      "kipmaman sharma\n",
      "har\n",
      "AMAN SHARMA\n",
      "aman sharma\n",
      "['aman', 'sharma']\n",
      "kipm aman sharma\n"
     ]
    }
   ],
   "source": [
    "b= \"aman sharma\"\n",
    "a= \"kipm\"\n",
    "print(a+b)\n",
    "print(b[-5:-2])\n",
    "print(b.upper())\n",
    "print(b.strip())\n",
    "print(b.split())\n",
    "c= a+\" \"+b\n",
    "print(c)"
   ]
  },
  {
   "cell_type": "code",
   "execution_count": 17,
   "id": "00c8e21c",
   "metadata": {},
   "outputs": [
    {
     "name": "stdout",
     "output_type": "stream",
     "text": [
      "enter the age23\n",
      "I am aman sharma , and i am 23\n"
     ]
    }
   ],
   "source": [
    "age=int(input('enter the age'))\n",
    "txt=\"I am aman sharma , and i am {}\"\n",
    "print(txt.format(age))"
   ]
  },
  {
   "cell_type": "code",
   "execution_count": 16,
   "id": "ae03cec3",
   "metadata": {},
   "outputs": [
    {
     "name": "stdout",
     "output_type": "stream",
     "text": [
      "for 10:30 I am going to study'dsa'today\n"
     ]
    }
   ],
   "source": [
    "txt\n",
    "txt1= \"for 10:30 I am going to study'dsa'today\"\n",
    "print(txt1)"
   ]
  },
  {
   "cell_type": "code",
   "execution_count": 21,
   "id": "072d1421",
   "metadata": {},
   "outputs": [
    {
     "name": "stdout",
     "output_type": "stream",
     "text": [
      "enter the name:ice cream\n",
      "enter the quantity:5\n",
      "enter the price of item:50\n",
      "the oder for 5 total no of ice cream price for one item is 50\n",
      "total amaout : 250\n"
     ]
    }
   ],
   "source": [
    "#neworder\n",
    "item= str(input('enter the name:'))\n",
    "quantity=int(input('enter the quantity:'))\n",
    "price = int(input('enter the price of item:'))\n",
    "new_order = \"the oder for {} total no of {} price for one item is {}\"\n",
    "print(new_order.format(quantity,item,price))\n",
    "print(\"total amaout :\", quantity*price)"
   ]
  },
  {
   "cell_type": "code",
   "execution_count": 7,
   "id": "795eaf34",
   "metadata": {},
   "outputs": [
    {
     "name": "stdout",
     "output_type": "stream",
     "text": [
      "['hello ', 'hello ', 'hello ', 'hello ', 'hello ', 'hello ', 'hello ']\n",
      "['apple', 'banana', 'egg', 'orange']\n",
      "['apple', 'aman', 'watermelon', 'sharma', 'cherry', 'orange', 'kiwi', 'melon', 'mengo', 'night']\n"
     ]
    }
   ],
   "source": [
    "thislist = [\"apple\",\"banana\",\"cherry\",\"orange\",\"kiwi\",\"melon\",\"mengo\"]\n",
    "new_list=[x for x in thislist if \"a\" in x]\n",
    "aklist= ['hello 'for x in thislist]\n",
    "new_list.insert(2,\"egg\")\n",
    "print(aklist)\n",
    "print(new_list)\n",
    "thislist.append(\"night\")\n",
    "thislist[1:2]= [\"aman\",\"sharma\"]\n",
    "thislist.insert(2,\"watermelon\")\n",
    "print(thislist)"
   ]
  },
  {
   "cell_type": "code",
   "execution_count": 1,
   "id": "7c285d7b",
   "metadata": {},
   "outputs": [
    {
     "name": "stdout",
     "output_type": "stream",
     "text": [
      "(1, 3, 4, 2, 4)\n"
     ]
    }
   ],
   "source": [
    "thistupple= (1,3,4,2,4)\n",
    "print(thistupple)"
   ]
  },
  {
   "cell_type": "markdown",
   "id": "05829681",
   "metadata": {},
   "source": [
    "# tuple practice\n"
   ]
  },
  {
   "cell_type": "code",
   "execution_count": 15,
   "id": "8bb793ec",
   "metadata": {},
   "outputs": [
    {
     "name": "stdout",
     "output_type": "stream",
     "text": [
      "apple\n",
      "banana\n",
      "cherry\n",
      "('apple', 'banana', 'cherry', 'non-vegitable')\n",
      "True\n"
     ]
    }
   ],
   "source": [
    "thistupple= (\"apple\",\"banana\",\"cherry\")\n",
    "(apple,banana,cherry)=thistupple\n",
    "print(apple)\n",
    "print(banana)\n",
    "print(cherry)\n",
    "y= list(thistupple)\n",
    "y.append('non-vegitable')\n",
    "thistupple=tuple(y)\n",
    "print(thistupple)#same process for the removing element \n",
    "print(banana in thistupple)\n"
   ]
  },
  {
   "cell_type": "markdown",
   "id": "68b7a36c",
   "metadata": {},
   "source": [
    "# phytho_sets"
   ]
  },
  {
   "cell_type": "code",
   "execution_count": 33,
   "id": "0ae6a59d",
   "metadata": {
    "scrolled": true
   },
   "outputs": [
    {
     "name": "stdout",
     "output_type": "stream",
     "text": [
      "True\n",
      "the pop  3 \n",
      "\n",
      "{'apple', 4, 5, 8} \n",
      " 4\n",
      "{'apple', 4, 5, 7, 8, 9}\n",
      "the union set \n",
      " {'apple', 4, 5, 7, 8, 9}\n"
     ]
    }
   ],
   "source": [
    "thisset= {3,4,5,3,\"apple\"}\n",
    "newset= {4,7,8,9}\n",
    "print(3 in thisset)\n",
    "thisset.add(8)\n",
    "\n",
    "print(\"the pop \",thisset.pop(),\"\\n\")\n",
    "print(thisset,\"\\n\",len(thisset))\n",
    "thisset.update(newset)\n",
    "print(thisset)\n",
    "set3=thisset.union(newset)\n",
    "print(\"the union set \\n\",set3)\n",
    "\n",
    "\n",
    "\n",
    "\n",
    "\n"
   ]
  },
  {
   "cell_type": "code",
   "execution_count": 37,
   "id": "979d2c38",
   "metadata": {},
   "outputs": [
    {
     "name": "stdout",
     "output_type": "stream",
     "text": [
      "{4}\n",
      "iu {4}\n"
     ]
    }
   ],
   "source": [
    "thisset= {3,4,5,3,\"apple\"}\n",
    "newset= {4,7,8,9}\n",
    "s=thisset.intersection(newset)\n",
    "print(s)\n",
    "thisset.intersection_update(newset)\n",
    "print(\"iu\",thisset)\n"
   ]
  },
  {
   "cell_type": "markdown",
   "id": "b97930db",
   "metadata": {},
   "source": [
    "# python_dectionary"
   ]
  },
  {
   "cell_type": "code",
   "execution_count": 58,
   "id": "fd621ae6",
   "metadata": {},
   "outputs": [
    {
     "name": "stdout",
     "output_type": "stream",
     "text": [
      "{'brand': 'ktm', 'model': 'duke', 'year': 2000}\n",
      "duke\n",
      "dict_keys(['brand', 'model', 'year'])\n",
      "dict_keys(['brand', 'model', 'year', 'color'])\n",
      "dict_values(['ktm', 'duke', 2002, 'white'])\n",
      "dict_items([('brand', 'ktm'), ('model', 'duke'), ('year', 2002), ('color', 'white')])\n",
      "{'brand': 'ktm', 'model': 'duke', 'year': 2019, 'color': 'white'}\n",
      "after poping {'brand': 'ktm', 'model': 'duke'}\n"
     ]
    }
   ],
   "source": [
    "dict1={\"brand\":\"ktm\",\n",
    "      \"model\":\"duke\",\n",
    "      \"year\":2000}\n",
    "print(dict1)\n",
    "print(dict1[\"model\"])\n",
    "x=dict1.keys()\n",
    "print(x)\n",
    "dict1[\"color\"]= \"white\"\n",
    "x=dict1.keys()\n",
    "print(x)\n",
    "dict1[\"year\"]=2002\n",
    "print(dict1.values())\n",
    "print(dict1.items())\n",
    "dict1.update({\"year\":2019})\n",
    "print(dict1)\n",
    "#removing item\n",
    "dict1.pop(\"year\")\n",
    "dict1.popitem()#last item pop\n",
    "print(\"after poping\",dict1)"
   ]
  },
  {
   "cell_type": "markdown",
   "id": "4b9d322e",
   "metadata": {},
   "source": [
    "python_dict"
   ]
  },
  {
   "cell_type": "code",
   "execution_count": 8,
   "id": "d39fa5a6",
   "metadata": {},
   "outputs": [
    {
     "name": "stdout",
     "output_type": "stream",
     "text": [
      "ktm\n",
      "duke\n",
      "2000\n",
      "ktm\n",
      "duke\n",
      "2000\n",
      "brand ktm\n",
      "model duke\n",
      "year 2000\n",
      "{'brand': 'ktm', 'model': 'duke', 'year': 2000}\n",
      "the new dec {'brand': 'ktm', 'model': 'duke', 'year': 2000}\n"
     ]
    }
   ],
   "source": [
    "dict1={\"brand\":\"ktm\",\n",
    "      \"model\":\"duke\",\n",
    "      \"year\":2000}\n",
    "for x in dict1:\n",
    "    print(dict1[x])\n",
    "    #same thing done by \n",
    "for x in dict1.values():\n",
    "    print(x)\n",
    "    #for keys use dict.keys\n",
    "    #for the both keys and values \n",
    "for s,d in dict1.items():\n",
    "    print(s,d)\n",
    "#copy the dict\n",
    "dict2=dict1.copy()\n",
    "print(dict1)\n",
    "print(\"the new dec\",dict2)\n",
    "    \n",
    "    "
   ]
  },
  {
   "cell_type": "markdown",
   "id": "a81646ac",
   "metadata": {},
   "source": [
    "# nested_dectionaries"
   ]
  },
  {
   "cell_type": "code",
   "execution_count": 13,
   "id": "a664807d",
   "metadata": {},
   "outputs": [
    {
     "name": "stdout",
     "output_type": "stream",
     "text": [
      "{'child1': {'name': 'rhaul', 'year': 2004}, 'child2': {'name': 'rohit', 'year': 2006}}\n"
     ]
    }
   ],
   "source": [
    "family = {\"child1\":{\n",
    "  \"name\":\"rhaul\",\n",
    "  \"year\": 2004\n",
    "},\n",
    "  \"child2\" :{\n",
    "   \"name\"  :\"rohit\",\n",
    "    \"year\": 2006\n",
    "  }    \n",
    "    }\n",
    "print(family)"
   ]
  },
  {
   "cell_type": "markdown",
   "id": "ea7e2b6a",
   "metadata": {},
   "source": [
    "# python(if-else, conditional loop)"
   ]
  },
  {
   "cell_type": "code",
   "execution_count": null,
   "id": "db9b86dd",
   "metadata": {},
   "outputs": [],
   "source": []
  }
 ],
 "metadata": {
  "kernelspec": {
   "display_name": "Python 3",
   "language": "python",
   "name": "python3"
  },
  "language_info": {
   "codemirror_mode": {
    "name": "ipython",
    "version": 3
   },
   "file_extension": ".py",
   "mimetype": "text/x-python",
   "name": "python",
   "nbconvert_exporter": "python",
   "pygments_lexer": "ipython3",
   "version": "3.8.8"
  }
 },
 "nbformat": 4,
 "nbformat_minor": 5
}
